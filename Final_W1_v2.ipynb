{
 "cells": [
  {
   "cell_type": "markdown",
   "metadata": {},
   "source": [
    "<H1><center>Capstone Project</center></H1>\n",
    "<img src=\"https://upload.wikimedia.org/wikipedia/commons/d/dc/Foursquare_logo.svg\" align=\"center\" width=\"100\">\n",
    "<H2><center>Coursera/IBM Data Science Specialization</center></H2>\n",
    "<H2><center>Week 1</center></H2>"
   ]
  },
  {
   "cell_type": "markdown",
   "metadata": {},
   "source": [
    "<h3>Introduction</h3>"
   ]
  },
  {
   "cell_type": "markdown",
   "metadata": {},
   "source": [
    "<body> Our client is a Small Company, operating since the 60's, catering for Tourists in Lisbon by selling traditional crafts and souvenirs in their shops. The company has opened two new shops in 2019 and has recently acquired a new space close to one of Portugal's main landmarks, but it wishes to diversify the business and open a food corner. The question is: what concept should the company bet on, in order to maximize success? \n",
    "<br></br>The idea is to use Machine Learning Algorithms to create a recommendation system that might suggest a \"kind\" of venue, described through keywords, that would increase the chances of yielding a high rating, based on what is found in similar locations across the country. </body>"
   ]
  },
  {
   "cell_type": "markdown",
   "metadata": {},
   "source": [
    "<h3>The Data</h3>"
   ]
  },
  {
   "cell_type": "markdown",
   "metadata": {},
   "source": [
    "<body>\n",
    "    We'll start by retrieving the location of Portugal's main landmarks, such as castles, monasteries and major monuments.\n",
    "    <p></p>The next step will be retrieving food places around those landmarks and building a recommendation system based on the most popular venues in proximity to these landmarks.\n",
    "    <p></p>Lastly we'll build a Decision Tree to establish which kind of food place we should invest in based on the location available for the new business.\n",
    "</body>"
   ]
  },
  {
   "cell_type": "markdown",
   "metadata": {},
   "source": [
    "<h3 style=\"color:red\"> ATTENTION: </h3>This exercise is just a demonstration of how the actual analysis would be made. Unfortunately, the limmits imposed by the Foursquare API don't allow us to retrieve Ratings and Visitor count that would allow us to rank the venues, however it is my impression that the API returns venues sorted by popularity so our simulation is sufficiently accurate for the purpose of the exercise."
   ]
  }
 ],
 "metadata": {
  "kernelspec": {
   "display_name": "Python",
   "language": "python",
   "name": "conda-env-python-py"
  },
  "language_info": {
   "codemirror_mode": {
    "name": "ipython",
    "version": 3
   },
   "file_extension": ".py",
   "mimetype": "text/x-python",
   "name": "python",
   "nbconvert_exporter": "python",
   "pygments_lexer": "ipython3",
   "version": "3.6.7"
  }
 },
 "nbformat": 4,
 "nbformat_minor": 4
}
