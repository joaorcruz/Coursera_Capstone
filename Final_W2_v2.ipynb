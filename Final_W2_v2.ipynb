{
 "cells": [
  {
   "cell_type": "markdown",
   "metadata": {},
   "source": [
    "<H1><center>Capstone Project</center></H1>\n",
    "<img src=\"https://upload.wikimedia.org/wikipedia/commons/d/dc/Foursquare_logo.svg\" align=\"center\" width=\"100\">\n",
    "<H2><center>Choosing a Restaurant Category for a New Business</center></H2>\n",
    "<H3><center>A Business Intelligence Exercise</center></H3>"
   ]
  },
  {
   "cell_type": "markdown",
   "metadata": {},
   "source": [
    "_______"
   ]
  },
  {
   "cell_type": "markdown",
   "metadata": {},
   "source": [
    "## Table of contents\n",
    "* [Introduction: Business Problem](#introduction)\n",
    "* [Data](#data)\n",
    "* [Methodology - Prediction Task](#methodology)\n",
    "* [Analysis](#analysis)\n",
    "* [Results and Discussion](#results)\n",
    "* [Conclusion](#conclusion)"
   ]
  },
  {
   "cell_type": "markdown",
   "metadata": {},
   "source": [
    "_____"
   ]
  },
  {
   "cell_type": "markdown",
   "metadata": {},
   "source": [
    "## Introduction: Business Problem <a name=\"introduction\"></a>"
   ]
  },
  {
   "cell_type": "markdown",
   "metadata": {},
   "source": [
    "On this project, the Data Scientist is working with **Company R**, a family business with over 40 years experience in brick and mortar souvenir shops. The company wishes to diversify it's business and has recently acquired a new space close to one of Lisbon's main landmarks. The problem is that this is a new market for **Company R** and management is unsure as to what kind of venue to invest on.\n",
    "**Company R** learned about Foursquare and started looking into the most common venues in the country, but the data was too much to make sense of just by browsing Foursquare's city guide. However, determined to make an informed decision, management decided to hire Business Intelligence Consultant that could analyze the data and present some options."
   ]
  },
  {
   "cell_type": "markdown",
   "metadata": {},
   "source": [
    "## Data <a name=\"data\"></a>"
   ]
  },
  {
   "cell_type": "markdown",
   "metadata": {},
   "source": [
    "In this project, Foursquare's API will be the only source of data.\n",
    "\n",
    "The reasoning behind this project is: \n",
    "* Company R's best bet is to invest in a type of venue that will attract the maximum number of customers and yield the highest ratings possible;\n",
    "* The new venue should be unique in it's Category in the area where it will open;\n",
    "* The new business must fit Company R's culture;\n",
    "* The new business should fit the area where it will open.\n",
    "\n",
    "With this in mind, the data will be used as follows:\n",
    "\n",
    "First step - Categories to be considered:\n",
    "* Retrieve from the Foursquare API the top 50 Landmarks in Portugal, similar to the Landmark next to which the new venue will open;\n",
    "* Fetch the top 5 venues in proximity to those Landmarks and make a rough analysis of which Categories are more numerous.\n",
    "\n",
    "Second step - Ranking:\n",
    "* Assuming that the number of photos is proportional to the number of visitors to each venue, a calculation will be made of a popularity score, which is the product of rating and number of photos; \n",
    "* With this new score, categories will be grouped and sorted based on their average popularity score.\n",
    "\n",
    "Third step - The Gap:\n",
    "* The list of venues close to the new business's location will be retrieved and sorted by categories and their respective popularity score;\n",
    "* Finally, from the top Categories identified in the second step, Company R will be able to choose which Category to invest on, given that the Category picked is not present in the new location. "
   ]
  },
  {
   "cell_type": "markdown",
   "metadata": {},
   "source": [
    "<h4>Importing libraries and setting things up for this notebook. Everything was added as needed.</h4>"
   ]
  },
  {
   "cell_type": "code",
   "execution_count": 1,
   "metadata": {},
   "outputs": [
    {
     "name": "stdout",
     "output_type": "stream",
     "text": [
      "All systems go!\n"
     ]
    }
   ],
   "source": [
    "import pandas as pd\n",
    "import numpy as np\n",
    "import json\n",
    "import requests # library to handle requests\n",
    "from pandas.io.json import json_normalize # tranform JSON file into a pandas dataframe\n",
    "\n",
    "# Matplotlib and associated plotting modules\n",
    "%matplotlib inline \n",
    "import matplotlib as mpl\n",
    "import matplotlib.cm as cm\n",
    "import matplotlib.colors as colors\n",
    "import matplotlib.pyplot as plt\n",
    "import matplotlib.image as mpimg\n",
    "\n",
    "import pydotplus\n",
    "\n",
    "from IPython.display import Image  \n",
    "\n",
    "import seaborn as sns\n",
    "\n",
    "from sklearn import linear_model\n",
    "from sklearn import preprocessing\n",
    "from sklearn.model_selection import train_test_split\n",
    "#from geopy.geocoders import Nominatim \n",
    "print('All systems go!')"
   ]
  },
  {
   "cell_type": "code",
   "execution_count": 2,
   "metadata": {},
   "outputs": [
    {
     "name": "stdout",
     "output_type": "stream",
     "text": [
      "Solving environment: done\n",
      "\n",
      "\n",
      "==> WARNING: A newer version of conda exists. <==\n",
      "  current version: 4.5.11\n",
      "  latest version: 4.8.2\n",
      "\n",
      "Please update conda by running\n",
      "\n",
      "    $ conda update -n base -c defaults conda\n",
      "\n",
      "\n",
      "\n",
      "## Package Plan ##\n",
      "\n",
      "  environment location: /home/jupyterlab/conda/envs/python\n",
      "\n",
      "  added / updated specs: \n",
      "    - wordcloud==1.4.1\n",
      "\n",
      "\n",
      "The following packages will be downloaded:\n",
      "\n",
      "    package                    |            build\n",
      "    ---------------------------|-----------------\n",
      "    certifi-2019.11.28         |           py36_0         149 KB  conda-forge\n",
      "    scikit-learn-0.20.1        |   py36h22eb022_0         5.7 MB\n",
      "    liblapack-3.8.0            |      11_openblas          10 KB  conda-forge\n",
      "    numpy-1.18.1               |   py36h95a1406_0         5.2 MB  conda-forge\n",
      "    liblapacke-3.8.0           |      11_openblas          10 KB  conda-forge\n",
      "    libopenblas-0.3.6          |       h5a2b251_2         7.7 MB\n",
      "    scipy-1.4.1                |   py36h921218d_0        18.9 MB  conda-forge\n",
      "    libcblas-3.8.0             |      11_openblas          10 KB  conda-forge\n",
      "    libblas-3.8.0              |      11_openblas          10 KB  conda-forge\n",
      "    blas-2.11                  |         openblas          10 KB  conda-forge\n",
      "    wordcloud-1.4.1            |           py36_0         324 KB  conda-forge\n",
      "    ------------------------------------------------------------\n",
      "                                           Total:        38.1 MB\n",
      "\n",
      "The following NEW packages will be INSTALLED:\n",
      "\n",
      "    libblas:      3.8.0-11_openblas                      conda-forge\n",
      "    libcblas:     3.8.0-11_openblas                      conda-forge\n",
      "    liblapack:    3.8.0-11_openblas                      conda-forge\n",
      "    liblapacke:   3.8.0-11_openblas                      conda-forge\n",
      "    libopenblas:  0.3.6-h5a2b251_2                                  \n",
      "    wordcloud:    1.4.1-py36_0                           conda-forge\n",
      "\n",
      "The following packages will be UPDATED:\n",
      "\n",
      "    blas:         1.1-openblas                           conda-forge --> 2.11-openblas         conda-forge\n",
      "    certifi:      2019.9.11-py36_0                       conda-forge --> 2019.11.28-py36_0     conda-forge\n",
      "    numpy:        1.16.2-py36_blas_openblash1522bff_0    conda-forge [blas_openblas] --> 1.18.1-py36h95a1406_0 conda-forge\n",
      "    scipy:        1.2.1-py36_blas_openblash1522bff_0     conda-forge [blas_openblas] --> 1.4.1-py36h921218d_0  conda-forge\n",
      "\n",
      "The following packages will be DOWNGRADED:\n",
      "\n",
      "    scikit-learn: 0.20.1-py36_blas_openblashebff5e3_1200 conda-forge [blas_openblas] --> 0.20.1-py36h22eb022_0            \n",
      "\n",
      "\n",
      "Downloading and Extracting Packages\n",
      "certifi-2019.11.28   | 149 KB    | ##################################### | 100% \n",
      "scikit-learn-0.20.1  | 5.7 MB    | ##################################### | 100% \n",
      "liblapack-3.8.0      | 10 KB     | ##################################### | 100% \n",
      "numpy-1.18.1         | 5.2 MB    | ##################################### | 100% \n",
      "liblapacke-3.8.0     | 10 KB     | ##################################### | 100% \n",
      "libopenblas-0.3.6    | 7.7 MB    | ##################################### | 100% \n",
      "scipy-1.4.1          | 18.9 MB   | ##################################### | 100% \n",
      "libcblas-3.8.0       | 10 KB     | ##################################### | 100% \n",
      "libblas-3.8.0        | 10 KB     | ##################################### | 100% \n",
      "blas-2.11            | 10 KB     | ##################################### | 100% \n",
      "wordcloud-1.4.1      | 324 KB    | ##################################### | 100% \n",
      "Preparing transaction: done\n",
      "Verifying transaction: done\n",
      "Executing transaction: done\n",
      "Wordcloud is installed and imported!\n"
     ]
    }
   ],
   "source": [
    "# install wordcloud\n",
    "!conda install -c conda-forge wordcloud==1.4.1 --yes\n",
    "\n",
    "# import package and its set of stopwords\n",
    "from wordcloud import WordCloud, STOPWORDS\n",
    "\n",
    "print ('Wordcloud is installed and imported!')"
   ]
  },
  {
   "cell_type": "code",
   "execution_count": 3,
   "metadata": {},
   "outputs": [
    {
     "name": "stdout",
     "output_type": "stream",
     "text": [
      "Solving environment: done\n",
      "\n",
      "\n",
      "==> WARNING: A newer version of conda exists. <==\n",
      "  current version: 4.5.11\n",
      "  latest version: 4.8.2\n",
      "\n",
      "Please update conda by running\n",
      "\n",
      "    $ conda update -n base -c defaults conda\n",
      "\n",
      "\n",
      "\n",
      "# All requested packages already installed.\n",
      "\n",
      "Solving environment: done\n",
      "\n",
      "\n",
      "==> WARNING: A newer version of conda exists. <==\n",
      "  current version: 4.5.11\n",
      "  latest version: 4.8.2\n",
      "\n",
      "Please update conda by running\n",
      "\n",
      "    $ conda update -n base -c defaults conda\n",
      "\n",
      "\n",
      "\n",
      "## Package Plan ##\n",
      "\n",
      "  environment location: /home/jupyterlab/conda/envs/python\n",
      "\n",
      "  added / updated specs: \n",
      "    - python-graphviz\n",
      "\n",
      "\n",
      "The following packages will be downloaded:\n",
      "\n",
      "    package                    |            build\n",
      "    ---------------------------|-----------------\n",
      "    python-graphviz-0.13.2     |             py_0          18 KB  conda-forge\n",
      "\n",
      "The following NEW packages will be INSTALLED:\n",
      "\n",
      "    python-graphviz: 0.13.2-py_0 conda-forge\n",
      "\n",
      "\n",
      "Downloading and Extracting Packages\n",
      "python-graphviz-0.13 | 18 KB     | ##################################### | 100% \n",
      "Preparing transaction: done\n",
      "Verifying transaction: done\n",
      "Executing transaction: done\n",
      "All Condas GOOO!!\n"
     ]
    }
   ],
   "source": [
    "!conda install -c conda-forge pydotplus -y\n",
    "!conda install -c conda-forge python-graphviz -y\n",
    "print('All Condas GOOO!!')"
   ]
  },
  {
   "cell_type": "markdown",
   "metadata": {},
   "source": [
    "<h4>Saving the Foursquare API credentials right away</h4>"
   ]
  },
  {
   "cell_type": "code",
   "execution_count": 4,
   "metadata": {},
   "outputs": [
    {
     "name": "stdout",
     "output_type": "stream",
     "text": [
      "Your credentials:\n",
      "CLIENT_ID: ABXB2WL4QQYWX4AE3SNRZ0SO114YA4KEA5A5QD14JG2HYVXM\n",
      "CLIENT_SECRET:1XLZ5NEWN4RH034HM2W3WVKWPRBRLV34WW50O43VLALDKXP5\n"
     ]
    }
   ],
   "source": [
    "CLIENT_ID = 'ABXB2WL4QQYWX4AE3SNRZ0SO114YA4KEA5A5QD14JG2HYVXM' # your Foursquare ID\n",
    "CLIENT_SECRET = '1XLZ5NEWN4RH034HM2W3WVKWPRBRLV34WW50O43VLALDKXP5' # your Foursquare Secret\n",
    "VERSION = '20180605' # Foursquare API version\n",
    "\n",
    "print('Your credentials:')\n",
    "print('CLIENT_ID: ' + CLIENT_ID)\n",
    "print('CLIENT_SECRET:' + CLIENT_SECRET)"
   ]
  },
  {
   "cell_type": "markdown",
   "metadata": {},
   "source": [
    "_____"
   ]
  },
  {
   "cell_type": "markdown",
   "metadata": {},
   "source": [
    "<h2>1. Defining relevant Categories</h2>\n",
    "<h4>1.1 Retrieving 50 Monuments/Landmarks in the country</h4>\n",
    "Using the Foursquare */venues/explore/* **endpoint** to retrieve venues with the tag *Landmark* in *Portugal*."
   ]
  },
  {
   "cell_type": "code",
   "execution_count": 5,
   "metadata": {},
   "outputs": [],
   "source": [
    "url = 'https://api.foursquare.com/v2/venues/explore/'\n",
    "\n",
    "params = dict(\n",
    "  client_id=CLIENT_ID,\n",
    "  client_secret=CLIENT_SECRET,\n",
    "  v='20180323',\n",
    "  near='Portugal',\n",
    "  query='landmark',\n",
    "  limit=50\n",
    ")\n",
    "resp = requests.get(url=url, params=params)\n",
    "data = json.loads(resp.text)"
   ]
  },
  {
   "cell_type": "code",
   "execution_count": 6,
   "metadata": {},
   "outputs": [],
   "source": [
    "venues = data['response']['groups'][0]['items']\n",
    "landmarks = json_normalize(venues)"
   ]
  },
  {
   "cell_type": "code",
   "execution_count": 7,
   "metadata": {},
   "outputs": [
    {
     "data": {
      "text/plain": [
       "(50, 32)"
      ]
     },
     "execution_count": 7,
     "metadata": {},
     "output_type": "execute_result"
    }
   ],
   "source": [
    "landmarks.shape"
   ]
  },
  {
   "cell_type": "markdown",
   "metadata": {},
   "source": [
    "<br></br>\n",
    "<h4>1.2 Retrieving details for the top 50 Monuments/Landmarks</h4>\n",
    "The *venues* **endpoint** is used to retrieve details, in which the coordinates of each landmark are included. These will later be used to retrieve nearby food venues."
   ]
  },
  {
   "cell_type": "markdown",
   "metadata": {},
   "source": [
    "**Note** The cells below were run only once, and the data was saved on a csv for faster and consistent use, therefore the code is presented for reference and can be used in case the CSV file is not present."
   ]
  },
  {
   "cell_type": "code",
   "execution_count": 8,
   "metadata": {},
   "outputs": [],
   "source": [
    "#i=0\n",
    "#for n in landmarks['venue.id']:\n",
    "#    VENUE_ID = n\n",
    "#    url = 'https://api.foursquare.com/v2/venues/{}?&client_id={}&client_secret={}&v={}'.format(\n",
    "#    VENUE_ID,    \n",
    "#    CLIENT_ID, \n",
    "#    CLIENT_SECRET, \n",
    "#    VERSION)\n",
    "#    rating = requests.get(url).json()['response']['venue']['rating']\n",
    "#    photo = requests.get(url).json()['response']['venue']['photos']['count']\n",
    "#    landmarks.loc[i,['Rating']] = rating\n",
    "#    landmarks.loc[i,['Photos']] = photo\n",
    "#    i = i+1"
   ]
  },
  {
   "cell_type": "code",
   "execution_count": 9,
   "metadata": {},
   "outputs": [],
   "source": [
    "#landmarks.head()"
   ]
  },
  {
   "cell_type": "code",
   "execution_count": 10,
   "metadata": {},
   "outputs": [],
   "source": [
    "# filter columns\n",
    "#filtered_columns = ['venue.id','venue.name', 'venue.location.lat', 'venue.location.lng', 'Rating', 'Photos']\n",
    "#landmarks =landmarks.loc[:, filtered_columns]\n",
    "# clean columns\n",
    "#landmarks.columns = [col.split(\".\")[-1] for col in landmarks.columns]\n",
    "#landmarks.head()"
   ]
  },
  {
   "cell_type": "code",
   "execution_count": 11,
   "metadata": {},
   "outputs": [],
   "source": [
    "#landmarks.sort_values(by=['Photos', 'Rating'], ascending=False)"
   ]
  },
  {
   "cell_type": "code",
   "execution_count": 12,
   "metadata": {},
   "outputs": [],
   "source": [
    "#landmarks.head()\n",
    "#landmarks.to_csv(r'landmarks2.csv', index = False, header=True) \n",
    "\n",
    "# After I ran the lines above once, I started using the CSV created for later tweaking of the project:\n",
    "landmarks = pd.read_csv('landmarks.csv')"
   ]
  },
  {
   "cell_type": "markdown",
   "metadata": {},
   "source": [
    "<br></br>\n",
    "<h4>1.3 Retrieve top 5 food Venues within 250m of each Landmarks's location</h4>\n",
    "\n",
    "Defining the function, radius and number of **venues** per **Landmark** to be extracted and retrieving the **food venues** list from the surrounding area of each **landmark**, by once again using the *venues* **endpoint**."
   ]
  },
  {
   "cell_type": "markdown",
   "metadata": {},
   "source": [
    "**Note** The cells below were run only once, and the data was saved on a csv for faster and consistent use, therefore the code is presented for reference and can be used in case the CSV file is not present."
   ]
  },
  {
   "cell_type": "code",
   "execution_count": 13,
   "metadata": {},
   "outputs": [],
   "source": [
    "# Retrieve 5 food places around landmarks\n",
    "#LIMIT = 5\n",
    "#radius = 250\n",
    "#query = 'food'\n",
    "\n",
    "# function that extracts nearby venues\n",
    "#def getNearbyVenues(names, latitudes, longitudes):\n",
    "    \n",
    "#    venues_list=[]\n",
    "#    for name, lat, lng in zip(names, latitudes, longitudes):\n",
    "        \n",
    "#        url = 'https://api.foursquare.com/v2/venues/explore?&client_id={}&client_secret={}&v={}&ll={},{}&radius={}&limit={}&query={}'.format(\n",
    "#            CLIENT_ID, \n",
    "#            CLIENT_SECRET, \n",
    "#            VERSION, \n",
    "#            lat, \n",
    "#            lng, \n",
    "#            radius, \n",
    "#            LIMIT,\n",
    "#            query)\n",
    "            \n",
    "        # make the GET request\n",
    "#        results = requests.get(url).json()[\"response\"]['groups'][0]['items']\n",
    "        \n",
    "        # return only relevant information for each nearby venue\n",
    "#        venues_list.append([(\n",
    "#            name, \n",
    "#            lat, \n",
    "#            lng, \n",
    "#            v['venue']['name'],  \n",
    "#            v['venue']['categories'][0]['name'],\n",
    "#            v['venue']['id']) for v in results])\n",
    "\n",
    "#    nearby_venues = pd.DataFrame([item for venue_list in venues_list for item in venue_list])\n",
    "#    nearby_venues.columns = ['Landmark', \n",
    "#                  'Venue', \n",
    "#                  'Venue Latitude', \n",
    "#                  'Venue Longitude', \n",
    "#                  'Venue Category',\n",
    "#                  'Venue ID']\n",
    "    \n",
    "#    return(nearby_venues)"
   ]
  },
  {
   "cell_type": "code",
   "execution_count": 14,
   "metadata": {},
   "outputs": [],
   "source": [
    "#lm_venues = getNearbyVenues(names=landmarks['name'],\n",
    "#                                   latitudes=landmarks['lat'],\n",
    "#                                   longitudes=landmarks['lng']\n",
    "#                                  )"
   ]
  },
  {
   "cell_type": "code",
   "execution_count": 15,
   "metadata": {},
   "outputs": [],
   "source": [
    "#lm_venues.head()"
   ]
  },
  {
   "cell_type": "markdown",
   "metadata": {},
   "source": [
    "<h4>1.3.1 Retrieve Rating and Photos Count for these venues</h4>"
   ]
  },
  {
   "cell_type": "code",
   "execution_count": 16,
   "metadata": {},
   "outputs": [],
   "source": [
    "#lm_venues['Rating'] = lm_venues.apply(lambda _: '', axis=1)\n",
    "#lm_venues['Photos'] = lm_venues.apply(lambda _: '', axis=1)\n",
    "#i=0\n",
    "#for n in lm_venues['Venue ID']:\n",
    "#    VENUE_ID = n\n",
    "#    url = 'https://api.foursquare.com/v2/venues/{}?&client_id={}&client_secret={}&v={}'.format(\n",
    "#    VENUE_ID,    \n",
    "#    CLIENT_ID, \n",
    "#    CLIENT_SECRET, \n",
    "#    VERSION)\n",
    "#    try:\n",
    "#        rating = requests.get(url).json()['response']['venue']['rating']\n",
    "#        photo = requests.get(url).json()['response']['venue']['photos']['count']\n",
    "#        lm_venues.loc[i,['Rating']] = rating\n",
    "#        lm_venues.loc[i,['Photos']] = photo\n",
    "#    except (KeyError):\n",
    "#        rating = 0\n",
    "#        photo = 0\n",
    "#    i = i+1\n",
    "#lm_venues = lm_venues.sort_values(by=['Photos', 'Rating'], ascending=False)\n",
    "#lm_venues.head()\n",
    "#lm_venues.to_csv(r'lm_venues2.csv', index = False, header=True)"
   ]
  },
  {
   "cell_type": "code",
   "execution_count": 17,
   "metadata": {},
   "outputs": [
    {
     "data": {
      "text/html": [
       "<div>\n",
       "<style scoped>\n",
       "    .dataframe tbody tr th:only-of-type {\n",
       "        vertical-align: middle;\n",
       "    }\n",
       "\n",
       "    .dataframe tbody tr th {\n",
       "        vertical-align: top;\n",
       "    }\n",
       "\n",
       "    .dataframe thead th {\n",
       "        text-align: right;\n",
       "    }\n",
       "</style>\n",
       "<table border=\"1\" class=\"dataframe\">\n",
       "  <thead>\n",
       "    <tr style=\"text-align: right;\">\n",
       "      <th></th>\n",
       "      <th>Landmark</th>\n",
       "      <th>Venue</th>\n",
       "      <th>Venue Latitude</th>\n",
       "      <th>Venue Longitude</th>\n",
       "      <th>Venue Category</th>\n",
       "      <th>Venue ID</th>\n",
       "      <th>Rating</th>\n",
       "      <th>Photos</th>\n",
       "    </tr>\n",
       "  </thead>\n",
       "  <tbody>\n",
       "    <tr>\n",
       "      <th>0</th>\n",
       "      <td>Torre de Belém</td>\n",
       "      <td>Confeitaria Nacional</td>\n",
       "      <td>38.691951</td>\n",
       "      <td>-9.213905</td>\n",
       "      <td>Café</td>\n",
       "      <td>57dec237498e779b838d523d</td>\n",
       "      <td>8.3</td>\n",
       "      <td>27.0</td>\n",
       "    </tr>\n",
       "    <tr>\n",
       "      <th>1</th>\n",
       "      <td>Torre de Belém</td>\n",
       "      <td>Lisboa Vista do Tejo - Cais da Princesa</td>\n",
       "      <td>38.691946</td>\n",
       "      <td>-9.213940</td>\n",
       "      <td>Café</td>\n",
       "      <td>4db355b9fa8c350240cc1404</td>\n",
       "      <td>7.5</td>\n",
       "      <td>28.0</td>\n",
       "    </tr>\n",
       "    <tr>\n",
       "      <th>2</th>\n",
       "      <td>Torre de Belém</td>\n",
       "      <td>Café do Forte</td>\n",
       "      <td>38.691976</td>\n",
       "      <td>-9.216876</td>\n",
       "      <td>Sandwich Place</td>\n",
       "      <td>4c5da75e6147be9a86a69209</td>\n",
       "      <td>6.8</td>\n",
       "      <td>94.0</td>\n",
       "    </tr>\n",
       "    <tr>\n",
       "      <th>5</th>\n",
       "      <td>Padrão dos Descobrimentos</td>\n",
       "      <td>Espelho de Agua</td>\n",
       "      <td>38.693727</td>\n",
       "      <td>-9.207113</td>\n",
       "      <td>Gastropub</td>\n",
       "      <td>5411828c498ea650de0a09d9</td>\n",
       "      <td>8.2</td>\n",
       "      <td>28.0</td>\n",
       "    </tr>\n",
       "    <tr>\n",
       "      <th>6</th>\n",
       "      <td>Padrão dos Descobrimentos</td>\n",
       "      <td>Espaço Espelho d'Água</td>\n",
       "      <td>38.693818</td>\n",
       "      <td>-9.207119</td>\n",
       "      <td>Diner</td>\n",
       "      <td>547ddfaf498ecc35f9db4392</td>\n",
       "      <td>8.2</td>\n",
       "      <td>59.0</td>\n",
       "    </tr>\n",
       "    <tr>\n",
       "      <th>...</th>\n",
       "      <td>...</td>\n",
       "      <td>...</td>\n",
       "      <td>...</td>\n",
       "      <td>...</td>\n",
       "      <td>...</td>\n",
       "      <td>...</td>\n",
       "      <td>...</td>\n",
       "      <td>...</td>\n",
       "    </tr>\n",
       "    <tr>\n",
       "      <th>181</th>\n",
       "      <td>Estátua D. João I</td>\n",
       "      <td>Floresta das Escadinhas</td>\n",
       "      <td>38.712703</td>\n",
       "      <td>-9.136417</td>\n",
       "      <td>Portuguese Restaurant</td>\n",
       "      <td>4f7d9a24e4b0fe094154be75</td>\n",
       "      <td>8.7</td>\n",
       "      <td>14.0</td>\n",
       "    </tr>\n",
       "    <tr>\n",
       "      <th>182</th>\n",
       "      <td>Avião e Monumento 1ª Travessia do Atlântico</td>\n",
       "      <td>Confeitaria Nacional</td>\n",
       "      <td>38.691951</td>\n",
       "      <td>-9.213905</td>\n",
       "      <td>Café</td>\n",
       "      <td>57dec237498e779b838d523d</td>\n",
       "      <td>8.3</td>\n",
       "      <td>27.0</td>\n",
       "    </tr>\n",
       "    <tr>\n",
       "      <th>183</th>\n",
       "      <td>Avião e Monumento 1ª Travessia do Atlântico</td>\n",
       "      <td>Lisboa Vista do Tejo - Cais da Princesa</td>\n",
       "      <td>38.691946</td>\n",
       "      <td>-9.213940</td>\n",
       "      <td>Café</td>\n",
       "      <td>4db355b9fa8c350240cc1404</td>\n",
       "      <td>7.5</td>\n",
       "      <td>28.0</td>\n",
       "    </tr>\n",
       "    <tr>\n",
       "      <th>184</th>\n",
       "      <td>Avião e Monumento 1ª Travessia do Atlântico</td>\n",
       "      <td>Café do Forte</td>\n",
       "      <td>38.691976</td>\n",
       "      <td>-9.216876</td>\n",
       "      <td>Sandwich Place</td>\n",
       "      <td>4c5da75e6147be9a86a69209</td>\n",
       "      <td>6.8</td>\n",
       "      <td>94.0</td>\n",
       "    </tr>\n",
       "    <tr>\n",
       "      <th>185</th>\n",
       "      <td>Avião e Monumento 1ª Travessia do Atlântico</td>\n",
       "      <td>Vela Latina</td>\n",
       "      <td>38.693029</td>\n",
       "      <td>-9.213661</td>\n",
       "      <td>Mediterranean Restaurant</td>\n",
       "      <td>4d23845d2ac6f04deaaf2d45</td>\n",
       "      <td>6.3</td>\n",
       "      <td>85.0</td>\n",
       "    </tr>\n",
       "  </tbody>\n",
       "</table>\n",
       "<p>160 rows × 8 columns</p>\n",
       "</div>"
      ],
      "text/plain": [
       "                                        Landmark  \\\n",
       "0                                 Torre de Belém   \n",
       "1                                 Torre de Belém   \n",
       "2                                 Torre de Belém   \n",
       "5                      Padrão dos Descobrimentos   \n",
       "6                      Padrão dos Descobrimentos   \n",
       "..                                           ...   \n",
       "181                            Estátua D. João I   \n",
       "182  Avião e Monumento 1ª Travessia do Atlântico   \n",
       "183  Avião e Monumento 1ª Travessia do Atlântico   \n",
       "184  Avião e Monumento 1ª Travessia do Atlântico   \n",
       "185  Avião e Monumento 1ª Travessia do Atlântico   \n",
       "\n",
       "                                       Venue  Venue Latitude  Venue Longitude  \\\n",
       "0                       Confeitaria Nacional       38.691951        -9.213905   \n",
       "1    Lisboa Vista do Tejo - Cais da Princesa       38.691946        -9.213940   \n",
       "2                              Café do Forte       38.691976        -9.216876   \n",
       "5                            Espelho de Agua       38.693727        -9.207113   \n",
       "6                      Espaço Espelho d'Água       38.693818        -9.207119   \n",
       "..                                       ...             ...              ...   \n",
       "181                  Floresta das Escadinhas       38.712703        -9.136417   \n",
       "182                     Confeitaria Nacional       38.691951        -9.213905   \n",
       "183  Lisboa Vista do Tejo - Cais da Princesa       38.691946        -9.213940   \n",
       "184                            Café do Forte       38.691976        -9.216876   \n",
       "185                              Vela Latina       38.693029        -9.213661   \n",
       "\n",
       "               Venue Category                  Venue ID  Rating  Photos  \n",
       "0                        Café  57dec237498e779b838d523d     8.3    27.0  \n",
       "1                        Café  4db355b9fa8c350240cc1404     7.5    28.0  \n",
       "2              Sandwich Place  4c5da75e6147be9a86a69209     6.8    94.0  \n",
       "5                   Gastropub  5411828c498ea650de0a09d9     8.2    28.0  \n",
       "6                       Diner  547ddfaf498ecc35f9db4392     8.2    59.0  \n",
       "..                        ...                       ...     ...     ...  \n",
       "181     Portuguese Restaurant  4f7d9a24e4b0fe094154be75     8.7    14.0  \n",
       "182                      Café  57dec237498e779b838d523d     8.3    27.0  \n",
       "183                      Café  4db355b9fa8c350240cc1404     7.5    28.0  \n",
       "184            Sandwich Place  4c5da75e6147be9a86a69209     6.8    94.0  \n",
       "185  Mediterranean Restaurant  4d23845d2ac6f04deaaf2d45     6.3    85.0  \n",
       "\n",
       "[160 rows x 8 columns]"
      ]
     },
     "execution_count": 17,
     "metadata": {},
     "output_type": "execute_result"
    }
   ],
   "source": [
    "# After I ran the lines above once, I started using the CSV created for later tweaking of the project:\n",
    "lm_venues = pd.read_csv('lm_venues.csv')\n",
    "lm_venues = lm_venues.dropna()\n",
    "lm_venues"
   ]
  },
  {
   "cell_type": "markdown",
   "metadata": {},
   "source": [
    "**All the data required for this analysis is now available.**"
   ]
  },
  {
   "cell_type": "markdown",
   "metadata": {},
   "source": [
    "____"
   ]
  },
  {
   "cell_type": "markdown",
   "metadata": {},
   "source": [
    "## Methodology <a name=\"methodology\"></a>\n",
    "The aim of this project is to establish what kind of food venue would be a best bet for a given location, in the vicinity of Castelo de São Jorge. The following assumptions were made:\n",
    "\n",
    "- The number of photos taken and published at a venue, correlate with the amount of visiting customers;\n",
    "- The best choice of a venue type for one landmark is a balance of selecting one that rates high in popularity in similar landmarks but has low competition on this particular landmark;\n",
    "- **Company R**'s culture must be taken into account when selecting venue type, otherwise it might fail for not being in sync with current line of business, values and team."
   ]
  },
  {
   "cell_type": "markdown",
   "metadata": {},
   "source": [
    "_____"
   ]
  },
  {
   "cell_type": "markdown",
   "metadata": {},
   "source": [
    "## Analysis <a name=\"analysis\"></a>\n",
    "Visualization tools are a great way to get a grasp of our data. The following steps will promote a better understanding of the business ecosystem in proximity to national landmarks."
   ]
  },
  {
   "cell_type": "markdown",
   "metadata": {},
   "source": [
    "<h4>1.4 A wordcloud is an appealing visual way of showing how prevalent each category is in the general picture</h4>"
   ]
  },
  {
   "cell_type": "code",
   "execution_count": 18,
   "metadata": {},
   "outputs": [],
   "source": [
    "stopwords = set(STOPWORDS)\n",
    "stopwords.add('object')\n",
    "stopwords.add('dtype')\n",
    "stopwords.add('name')\n",
    "stopwords.add('length')\n",
    "stopwords.add('place')\n",
    "stopwords.add('Category')"
   ]
  },
  {
   "cell_type": "code",
   "execution_count": 19,
   "metadata": {},
   "outputs": [
    {
     "data": {
      "text/html": [
       "<div>\n",
       "<style scoped>\n",
       "    .dataframe tbody tr th:only-of-type {\n",
       "        vertical-align: middle;\n",
       "    }\n",
       "\n",
       "    .dataframe tbody tr th {\n",
       "        vertical-align: top;\n",
       "    }\n",
       "\n",
       "    .dataframe thead th {\n",
       "        text-align: right;\n",
       "    }\n",
       "</style>\n",
       "<table border=\"1\" class=\"dataframe\">\n",
       "  <thead>\n",
       "    <tr style=\"text-align: right;\">\n",
       "      <th></th>\n",
       "      <th>Landmark</th>\n",
       "      <th>Venue</th>\n",
       "      <th>Lat</th>\n",
       "      <th>Lng</th>\n",
       "      <th>Category</th>\n",
       "      <th>ID</th>\n",
       "      <th>Rating</th>\n",
       "      <th>Photos</th>\n",
       "    </tr>\n",
       "  </thead>\n",
       "  <tbody>\n",
       "  </tbody>\n",
       "</table>\n",
       "</div>"
      ],
      "text/plain": [
       "Empty DataFrame\n",
       "Columns: [Landmark, Venue, Lat, Lng, Category, ID, Rating, Photos]\n",
       "Index: []"
      ]
     },
     "execution_count": 19,
     "metadata": {},
     "output_type": "execute_result"
    }
   ],
   "source": [
    "lm_venues = lm_venues.rename(columns={\"Venue Latitude\": \"Lat\", \"Venue Longitude\": \"Lng\", \"Venue Category\": \"Category\", \"Venue ID\": \"ID\"})\n",
    "lm_venues.head(0)"
   ]
  },
  {
   "cell_type": "code",
   "execution_count": 20,
   "metadata": {},
   "outputs": [
    {
     "data": {
      "text/plain": [
       "<wordcloud.wordcloud.WordCloud at 0x7fb3dc6b57f0>"
      ]
     },
     "execution_count": 20,
     "metadata": {},
     "output_type": "execute_result"
    }
   ],
   "source": [
    "# instantiate a word cloud object\n",
    "venue_wc = WordCloud(\n",
    "    background_color='white',\n",
    "    max_words=2000,\n",
    "    stopwords=stopwords\n",
    ")\n",
    "lista = str(lm_venues['Category'])\n",
    "# generate the word cloud\n",
    "venue_wc.generate(lista)"
   ]
  },
  {
   "cell_type": "code",
   "execution_count": 21,
   "metadata": {},
   "outputs": [
    {
     "data": {
      "image/png": "[encoded data removed]",
      "text/plain": [
       "<Figure size 1008x1296 with 1 Axes>"
      ]
     },
     "metadata": {
      "needs_background": "light"
     },
     "output_type": "display_data"
    }
   ],
   "source": [
    "fig = plt.figure()\n",
    "fig.set_figwidth(14) # set width\n",
    "fig.set_figheight(18) # set height\n",
    "\n",
    "# display the cloud\n",
    "plt.imshow(venue_wc, interpolation='bilinear')\n",
    "plt.axis('off')\n",
    "plt.show()"
   ]
  },
  {
   "cell_type": "markdown",
   "metadata": {},
   "source": [
    "The wordcloud is a great way to see what kind of venues are more prevalent. From this, two strategies might arise: \n",
    "\n",
    "\n",
    "- **Company R** might choose to bet on a low risk and low differentiation strategy and pick a common category with a predictable rate of return, or;\n",
    "- **Company R** could bet on a less common category with a higher expected return.\n",
    "\n",
    "In order to make an informed decision, **Company R** needs a quantified analysis of how popular each category is, assuming that popularity can be quantified by multiplying an indicator of number of customers (photos published) by the rating of the venues published within that category."
   ]
  },
  {
   "cell_type": "code",
   "execution_count": 22,
   "metadata": {},
   "outputs": [
    {
     "data": {
      "text/html": [
       "<div>\n",
       "<style scoped>\n",
       "    .dataframe tbody tr th:only-of-type {\n",
       "        vertical-align: middle;\n",
       "    }\n",
       "\n",
       "    .dataframe tbody tr th {\n",
       "        vertical-align: top;\n",
       "    }\n",
       "\n",
       "    .dataframe thead th {\n",
       "        text-align: right;\n",
       "    }\n",
       "</style>\n",
       "<table border=\"1\" class=\"dataframe\">\n",
       "  <thead>\n",
       "    <tr style=\"text-align: right;\">\n",
       "      <th></th>\n",
       "      <th>Lat</th>\n",
       "      <th>Lng</th>\n",
       "      <th>Rating</th>\n",
       "      <th>Photos</th>\n",
       "    </tr>\n",
       "    <tr>\n",
       "      <th>Category</th>\n",
       "      <th></th>\n",
       "      <th></th>\n",
       "      <th></th>\n",
       "      <th></th>\n",
       "    </tr>\n",
       "  </thead>\n",
       "  <tbody>\n",
       "    <tr>\n",
       "      <th>Vegetarian / Vegan Restaurant</th>\n",
       "      <td>41.446780</td>\n",
       "      <td>-8.292146</td>\n",
       "      <td>9.000000</td>\n",
       "      <td>56.000000</td>\n",
       "    </tr>\n",
       "    <tr>\n",
       "      <th>Empanada Restaurant</th>\n",
       "      <td>38.713572</td>\n",
       "      <td>-9.135550</td>\n",
       "      <td>8.900000</td>\n",
       "      <td>17.000000</td>\n",
       "    </tr>\n",
       "    <tr>\n",
       "      <th>American Restaurant</th>\n",
       "      <td>38.716657</td>\n",
       "      <td>-9.141767</td>\n",
       "      <td>8.900000</td>\n",
       "      <td>2402.000000</td>\n",
       "    </tr>\n",
       "    <tr>\n",
       "      <th>Tapas Restaurant</th>\n",
       "      <td>40.659157</td>\n",
       "      <td>-8.718162</td>\n",
       "      <td>8.840000</td>\n",
       "      <td>86.200000</td>\n",
       "    </tr>\n",
       "    <tr>\n",
       "      <th>Food Truck</th>\n",
       "      <td>38.712871</td>\n",
       "      <td>-9.134241</td>\n",
       "      <td>8.800000</td>\n",
       "      <td>23.000000</td>\n",
       "    </tr>\n",
       "    <tr>\n",
       "      <th>Argentinian Restaurant</th>\n",
       "      <td>41.142553</td>\n",
       "      <td>-8.616698</td>\n",
       "      <td>8.700000</td>\n",
       "      <td>16.000000</td>\n",
       "    </tr>\n",
       "    <tr>\n",
       "      <th>Breakfast Spot</th>\n",
       "      <td>41.147545</td>\n",
       "      <td>-8.609962</td>\n",
       "      <td>8.650000</td>\n",
       "      <td>77.000000</td>\n",
       "    </tr>\n",
       "    <tr>\n",
       "      <th>Bistro</th>\n",
       "      <td>40.208814</td>\n",
       "      <td>-8.428307</td>\n",
       "      <td>8.500000</td>\n",
       "      <td>36.000000</td>\n",
       "    </tr>\n",
       "    <tr>\n",
       "      <th>Indian Restaurant</th>\n",
       "      <td>38.709485</td>\n",
       "      <td>-9.149954</td>\n",
       "      <td>8.450000</td>\n",
       "      <td>23.833333</td>\n",
       "    </tr>\n",
       "    <tr>\n",
       "      <th>Sushi Restaurant</th>\n",
       "      <td>41.160646</td>\n",
       "      <td>-8.650919</td>\n",
       "      <td>8.400000</td>\n",
       "      <td>92.000000</td>\n",
       "    </tr>\n",
       "    <tr>\n",
       "      <th>Diner</th>\n",
       "      <td>39.920984</td>\n",
       "      <td>-8.910781</td>\n",
       "      <td>8.350000</td>\n",
       "      <td>83.000000</td>\n",
       "    </tr>\n",
       "    <tr>\n",
       "      <th>Salad Place</th>\n",
       "      <td>38.712130</td>\n",
       "      <td>-9.134966</td>\n",
       "      <td>8.300000</td>\n",
       "      <td>7.000000</td>\n",
       "    </tr>\n",
       "    <tr>\n",
       "      <th>Japanese Restaurant</th>\n",
       "      <td>36.896850</td>\n",
       "      <td>-12.764100</td>\n",
       "      <td>8.300000</td>\n",
       "      <td>59.500000</td>\n",
       "    </tr>\n",
       "    <tr>\n",
       "      <th>Snack Place</th>\n",
       "      <td>39.324886</td>\n",
       "      <td>-9.023873</td>\n",
       "      <td>8.175000</td>\n",
       "      <td>31.500000</td>\n",
       "    </tr>\n",
       "    <tr>\n",
       "      <th>Creperie</th>\n",
       "      <td>40.203783</td>\n",
       "      <td>-8.433130</td>\n",
       "      <td>8.100000</td>\n",
       "      <td>13.000000</td>\n",
       "    </tr>\n",
       "    <tr>\n",
       "      <th>Bakery</th>\n",
       "      <td>39.801667</td>\n",
       "      <td>-8.917722</td>\n",
       "      <td>8.075000</td>\n",
       "      <td>92.583333</td>\n",
       "    </tr>\n",
       "    <tr>\n",
       "      <th>Portuguese Restaurant</th>\n",
       "      <td>39.310827</td>\n",
       "      <td>-8.991521</td>\n",
       "      <td>7.956863</td>\n",
       "      <td>68.803922</td>\n",
       "    </tr>\n",
       "    <tr>\n",
       "      <th>Burger Joint</th>\n",
       "      <td>40.015205</td>\n",
       "      <td>-8.783496</td>\n",
       "      <td>7.900000</td>\n",
       "      <td>7.666667</td>\n",
       "    </tr>\n",
       "    <tr>\n",
       "      <th>Mediterranean Restaurant</th>\n",
       "      <td>39.339103</td>\n",
       "      <td>-8.955363</td>\n",
       "      <td>7.885714</td>\n",
       "      <td>53.000000</td>\n",
       "    </tr>\n",
       "    <tr>\n",
       "      <th>Gastropub</th>\n",
       "      <td>40.016158</td>\n",
       "      <td>-8.748698</td>\n",
       "      <td>7.866667</td>\n",
       "      <td>42.666667</td>\n",
       "    </tr>\n",
       "    <tr>\n",
       "      <th>Pizza Place</th>\n",
       "      <td>39.834374</td>\n",
       "      <td>-8.881341</td>\n",
       "      <td>7.866667</td>\n",
       "      <td>9.666667</td>\n",
       "    </tr>\n",
       "    <tr>\n",
       "      <th>Italian Restaurant</th>\n",
       "      <td>39.924064</td>\n",
       "      <td>-8.910320</td>\n",
       "      <td>7.850000</td>\n",
       "      <td>39.250000</td>\n",
       "    </tr>\n",
       "    <tr>\n",
       "      <th>Sandwich Place</th>\n",
       "      <td>39.260696</td>\n",
       "      <td>-9.014126</td>\n",
       "      <td>7.800000</td>\n",
       "      <td>124.571429</td>\n",
       "    </tr>\n",
       "    <tr>\n",
       "      <th>Seafood Restaurant</th>\n",
       "      <td>39.091604</td>\n",
       "      <td>-9.067849</td>\n",
       "      <td>7.780000</td>\n",
       "      <td>44.200000</td>\n",
       "    </tr>\n",
       "    <tr>\n",
       "      <th>Café</th>\n",
       "      <td>39.188454</td>\n",
       "      <td>-9.436363</td>\n",
       "      <td>7.700000</td>\n",
       "      <td>53.625000</td>\n",
       "    </tr>\n",
       "    <tr>\n",
       "      <th>Restaurant</th>\n",
       "      <td>37.657662</td>\n",
       "      <td>-10.825966</td>\n",
       "      <td>7.500000</td>\n",
       "      <td>38.769231</td>\n",
       "    </tr>\n",
       "    <tr>\n",
       "      <th>Fried Chicken Joint</th>\n",
       "      <td>40.928914</td>\n",
       "      <td>-8.245282</td>\n",
       "      <td>7.200000</td>\n",
       "      <td>8.000000</td>\n",
       "    </tr>\n",
       "    <tr>\n",
       "      <th>Hot Dog Joint</th>\n",
       "      <td>38.693258</td>\n",
       "      <td>-9.207902</td>\n",
       "      <td>7.100000</td>\n",
       "      <td>3.000000</td>\n",
       "    </tr>\n",
       "    <tr>\n",
       "      <th>Steakhouse</th>\n",
       "      <td>38.740483</td>\n",
       "      <td>-9.284043</td>\n",
       "      <td>6.400000</td>\n",
       "      <td>70.000000</td>\n",
       "    </tr>\n",
       "    <tr>\n",
       "      <th>BBQ Joint</th>\n",
       "      <td>41.531550</td>\n",
       "      <td>-8.622703</td>\n",
       "      <td>6.000000</td>\n",
       "      <td>4.000000</td>\n",
       "    </tr>\n",
       "  </tbody>\n",
       "</table>\n",
       "</div>"
      ],
      "text/plain": [
       "                                     Lat        Lng    Rating       Photos\n",
       "Category                                                                  \n",
       "Vegetarian / Vegan Restaurant  41.446780  -8.292146  9.000000    56.000000\n",
       "Empanada Restaurant            38.713572  -9.135550  8.900000    17.000000\n",
       "American Restaurant            38.716657  -9.141767  8.900000  2402.000000\n",
       "Tapas Restaurant               40.659157  -8.718162  8.840000    86.200000\n",
       "Food Truck                     38.712871  -9.134241  8.800000    23.000000\n",
       "Argentinian Restaurant         41.142553  -8.616698  8.700000    16.000000\n",
       "Breakfast Spot                 41.147545  -8.609962  8.650000    77.000000\n",
       "Bistro                         40.208814  -8.428307  8.500000    36.000000\n",
       "Indian Restaurant              38.709485  -9.149954  8.450000    23.833333\n",
       "Sushi Restaurant               41.160646  -8.650919  8.400000    92.000000\n",
       "Diner                          39.920984  -8.910781  8.350000    83.000000\n",
       "Salad Place                    38.712130  -9.134966  8.300000     7.000000\n",
       "Japanese Restaurant            36.896850 -12.764100  8.300000    59.500000\n",
       "Snack Place                    39.324886  -9.023873  8.175000    31.500000\n",
       "Creperie                       40.203783  -8.433130  8.100000    13.000000\n",
       "Bakery                         39.801667  -8.917722  8.075000    92.583333\n",
       "Portuguese Restaurant          39.310827  -8.991521  7.956863    68.803922\n",
       "Burger Joint                   40.015205  -8.783496  7.900000     7.666667\n",
       "Mediterranean Restaurant       39.339103  -8.955363  7.885714    53.000000\n",
       "Gastropub                      40.016158  -8.748698  7.866667    42.666667\n",
       "Pizza Place                    39.834374  -8.881341  7.866667     9.666667\n",
       "Italian Restaurant             39.924064  -8.910320  7.850000    39.250000\n",
       "Sandwich Place                 39.260696  -9.014126  7.800000   124.571429\n",
       "Seafood Restaurant             39.091604  -9.067849  7.780000    44.200000\n",
       "Café                           39.188454  -9.436363  7.700000    53.625000\n",
       "Restaurant                     37.657662 -10.825966  7.500000    38.769231\n",
       "Fried Chicken Joint            40.928914  -8.245282  7.200000     8.000000\n",
       "Hot Dog Joint                  38.693258  -9.207902  7.100000     3.000000\n",
       "Steakhouse                     38.740483  -9.284043  6.400000    70.000000\n",
       "BBQ Joint                      41.531550  -8.622703  6.000000     4.000000"
      ]
     },
     "execution_count": 22,
     "metadata": {},
     "output_type": "execute_result"
    }
   ],
   "source": [
    "# Creating the Photos and Ratings dataframe\n",
    "venue_hist = lm_venues.groupby('Category').mean()\n",
    "venue_hist = venue_hist.sort_values('Rating', ascending=False)\n",
    "venue_hist"
   ]
  },
  {
   "cell_type": "code",
   "execution_count": 23,
   "metadata": {},
   "outputs": [],
   "source": [
    "venue_histr = venue_hist['Rating']\n",
    "venue_histp = venue_hist['Photos']"
   ]
  },
  {
   "cell_type": "markdown",
   "metadata": {},
   "source": [
    "<h4>1.5 Bar charts are also a great way of visualizing data with the advantage of quantifying it, as shown in the plots below</h4>"
   ]
  },
  {
   "cell_type": "markdown",
   "metadata": {},
   "source": [
    "**NOTE** - On the following plots, one outlier was identified and removed from the dataset: THE HARD ROCK CAFE, for it's brand and marketing capacity is outside the scope of this comparison as **Company R** will be competing with equally sized, small to medium, businesses."
   ]
  },
  {
   "cell_type": "code",
   "execution_count": 24,
   "metadata": {},
   "outputs": [
    {
     "data": {
      "image/png": "[encoded data removed]",
      "text/plain": [
       "<Figure size 720x432 with 1 Axes>"
      ]
     },
     "metadata": {
      "needs_background": "light"
     },
     "output_type": "display_data"
    }
   ],
   "source": [
    "# step 2: plot data\n",
    "venue_histr.plot(kind='bar', figsize=(10, 6))\n",
    "\n",
    "plt.xlabel('Category') # add to x-label to the plot\n",
    "plt.ylabel('Rating') # add y-label to the plot\n",
    "plt.title('Chart 1 - Average Rating per Category') # add title to the plot\n",
    "\n",
    "plt.show()"
   ]
  },
  {
   "cell_type": "code",
   "execution_count": 25,
   "metadata": {},
   "outputs": [
    {
     "data": {
      "image/png": "[encoded data removed]",
      "text/plain": [
       "<Figure size 720x432 with 1 Axes>"
      ]
     },
     "metadata": {
      "needs_background": "light"
     },
     "output_type": "display_data"
    }
   ],
   "source": [
    "# step 2: plot data\n",
    "venue_histp.pop('American Restaurant') \n",
    "venue_histp = venue_histp.sort_values(ascending=False)\n",
    "venue_histp.plot(kind='bar', figsize=(10, 6), color='red')\n",
    "\n",
    "plt.xlabel('Category') # add to x-label to the plot\n",
    "plt.ylabel('# of Photos') # add y-label to the plot\n",
    "plt.title('Chart 2 - Average # of Photos per Category') # add title to the plot\n",
    "\n",
    "plt.show()"
   ]
  },
  {
   "cell_type": "code",
   "execution_count": 26,
   "metadata": {},
   "outputs": [],
   "source": [
    "#Run Popularity contest\n",
    "venue_pop = venue_hist.drop(columns = ['Lat', 'Lng'])\n",
    "venue_pop = venue_pop.groupby('Category').mean()\n",
    "venue_pop['Pop'] = venue_hist['Rating'] * venue_hist['Photos']\n",
    "venue_pop = venue_pop.dropna()\n",
    "venue_pop=venue_pop.sort_values('Pop', ascending=False)"
   ]
  },
  {
   "cell_type": "code",
   "execution_count": 28,
   "metadata": {},
   "outputs": [
    {
     "data": {
      "image/png": "[encoded data removed]",
      "text/plain": [
       "<Figure size 720x432 with 1 Axes>"
      ]
     },
     "metadata": {
      "needs_background": "light"
     },
     "output_type": "display_data"
    }
   ],
   "source": [
    "# step 2: plot data\n",
    "#venue_histp.pop('American Restaurant')\n",
    "venue_pop=venue_pop.drop(columns = ['Rating','Photos'])\n",
    "venue_pop.plot(kind='bar', figsize=(10, 6), color='black')\n",
    "\n",
    "plt.xlabel('Category') # add to x-label to the plot\n",
    "plt.ylabel('Popularity') # add y-label to the plot\n",
    "plt.title('Chart 3 - Popularity per Category') # add title to the plot\n",
    "\n",
    "plt.show()"
   ]
  },
  {
   "cell_type": "markdown",
   "metadata": {},
   "source": [
    "_____"
   ]
  },
  {
   "cell_type": "markdown",
   "metadata": {},
   "source": [
    "<h2>3. The GAP</h2>\n",
    "It is now time to take a deeper look at the business ecosystem around the location where **Company R** wishes to start its new venture. The goal now is to identify the existing venue categories and their popularity.\n",
    "\n",
    "This might take **Company R** down one of two paths:\n",
    "- Either there is a clear gap (a blue ocean) in the ecosystem, presenting **Company R** with the opportunity to implement a strategy of differentiation by betting on an non-existing category that has shown to be highly popular in the vicinity of similar landmarks, or;\n",
    "- The ecosystem is saturated and **Company R** further analysis is needed to assess which category has a higher rate of return based on its frequency in the area versus its expected popularity."
   ]
  },
  {
   "cell_type": "code",
   "execution_count": 29,
   "metadata": {},
   "outputs": [],
   "source": [
    "# Now we look deeper at the location we have available\n",
    "focusarea = lm_venues.loc[lm_venues['Landmark']=='Castelo de São Jorge']"
   ]
  },
  {
   "cell_type": "code",
   "execution_count": 30,
   "metadata": {},
   "outputs": [
    {
     "data": {
      "text/html": [
       "<div>\n",
       "<style scoped>\n",
       "    .dataframe tbody tr th:only-of-type {\n",
       "        vertical-align: middle;\n",
       "    }\n",
       "\n",
       "    .dataframe tbody tr th {\n",
       "        vertical-align: top;\n",
       "    }\n",
       "\n",
       "    .dataframe thead th {\n",
       "        text-align: right;\n",
       "    }\n",
       "</style>\n",
       "<table border=\"1\" class=\"dataframe\">\n",
       "  <thead>\n",
       "    <tr style=\"text-align: right;\">\n",
       "      <th></th>\n",
       "      <th>Landmark</th>\n",
       "      <th>Venue</th>\n",
       "      <th>Lat</th>\n",
       "      <th>Lng</th>\n",
       "      <th>Category</th>\n",
       "      <th>ID</th>\n",
       "      <th>Rating</th>\n",
       "      <th>Photos</th>\n",
       "    </tr>\n",
       "  </thead>\n",
       "  <tbody>\n",
       "    <tr>\n",
       "      <th>34</th>\n",
       "      <td>Castelo de São Jorge</td>\n",
       "      <td>Wine With a View</td>\n",
       "      <td>38.712871</td>\n",
       "      <td>-9.134241</td>\n",
       "      <td>Food Truck</td>\n",
       "      <td>55149655498eb8bdba6f215c</td>\n",
       "      <td>8.8</td>\n",
       "      <td>23.0</td>\n",
       "    </tr>\n",
       "    <tr>\n",
       "      <th>35</th>\n",
       "      <td>Castelo de São Jorge</td>\n",
       "      <td>Miss Can Petiscaria</td>\n",
       "      <td>38.711952</td>\n",
       "      <td>-9.131216</td>\n",
       "      <td>Portuguese Restaurant</td>\n",
       "      <td>57486374cd10843a7161a25d</td>\n",
       "      <td>8.7</td>\n",
       "      <td>21.0</td>\n",
       "    </tr>\n",
       "    <tr>\n",
       "      <th>36</th>\n",
       "      <td>Castelo de São Jorge</td>\n",
       "      <td>paladarium</td>\n",
       "      <td>38.712130</td>\n",
       "      <td>-9.134966</td>\n",
       "      <td>Salad Place</td>\n",
       "      <td>57c87e09498e5f202e8a65ce</td>\n",
       "      <td>8.3</td>\n",
       "      <td>7.0</td>\n",
       "    </tr>\n",
       "    <tr>\n",
       "      <th>37</th>\n",
       "      <td>Castelo de São Jorge</td>\n",
       "      <td>Chapito à Mesa</td>\n",
       "      <td>38.711403</td>\n",
       "      <td>-9.133939</td>\n",
       "      <td>Portuguese Restaurant</td>\n",
       "      <td>5804f03c38fa104ef10e981b</td>\n",
       "      <td>8.3</td>\n",
       "      <td>67.0</td>\n",
       "    </tr>\n",
       "    <tr>\n",
       "      <th>38</th>\n",
       "      <td>Castelo de São Jorge</td>\n",
       "      <td>O Eurico</td>\n",
       "      <td>38.712664</td>\n",
       "      <td>-9.135528</td>\n",
       "      <td>Portuguese Restaurant</td>\n",
       "      <td>4dfc9a48483b96a3aaa64550</td>\n",
       "      <td>8.4</td>\n",
       "      <td>43.0</td>\n",
       "    </tr>\n",
       "  </tbody>\n",
       "</table>\n",
       "</div>"
      ],
      "text/plain": [
       "                Landmark                Venue        Lat       Lng  \\\n",
       "34  Castelo de São Jorge     Wine With a View  38.712871 -9.134241   \n",
       "35  Castelo de São Jorge  Miss Can Petiscaria  38.711952 -9.131216   \n",
       "36  Castelo de São Jorge           paladarium  38.712130 -9.134966   \n",
       "37  Castelo de São Jorge       Chapito à Mesa  38.711403 -9.133939   \n",
       "38  Castelo de São Jorge             O Eurico  38.712664 -9.135528   \n",
       "\n",
       "                 Category                        ID  Rating  Photos  \n",
       "34             Food Truck  55149655498eb8bdba6f215c     8.8    23.0  \n",
       "35  Portuguese Restaurant  57486374cd10843a7161a25d     8.7    21.0  \n",
       "36            Salad Place  57c87e09498e5f202e8a65ce     8.3     7.0  \n",
       "37  Portuguese Restaurant  5804f03c38fa104ef10e981b     8.3    67.0  \n",
       "38  Portuguese Restaurant  4dfc9a48483b96a3aaa64550     8.4    43.0  "
      ]
     },
     "execution_count": 30,
     "metadata": {},
     "output_type": "execute_result"
    }
   ],
   "source": [
    "focusarea.head(10)"
   ]
  },
  {
   "cell_type": "code",
   "execution_count": 31,
   "metadata": {},
   "outputs": [
    {
     "data": {
      "text/html": [
       "<div>\n",
       "<style scoped>\n",
       "    .dataframe tbody tr th:only-of-type {\n",
       "        vertical-align: middle;\n",
       "    }\n",
       "\n",
       "    .dataframe tbody tr th {\n",
       "        vertical-align: top;\n",
       "    }\n",
       "\n",
       "    .dataframe thead th {\n",
       "        text-align: right;\n",
       "    }\n",
       "</style>\n",
       "<table border=\"1\" class=\"dataframe\">\n",
       "  <thead>\n",
       "    <tr style=\"text-align: right;\">\n",
       "      <th></th>\n",
       "      <th>Pop</th>\n",
       "    </tr>\n",
       "    <tr>\n",
       "      <th>Category</th>\n",
       "      <th></th>\n",
       "    </tr>\n",
       "  </thead>\n",
       "  <tbody>\n",
       "    <tr>\n",
       "      <th>Portuguese Restaurant</th>\n",
       "      <td>366.666667</td>\n",
       "    </tr>\n",
       "    <tr>\n",
       "      <th>Food Truck</th>\n",
       "      <td>202.400000</td>\n",
       "    </tr>\n",
       "    <tr>\n",
       "      <th>Salad Place</th>\n",
       "      <td>58.100000</td>\n",
       "    </tr>\n",
       "  </tbody>\n",
       "</table>\n",
       "</div>"
      ],
      "text/plain": [
       "                              Pop\n",
       "Category                         \n",
       "Portuguese Restaurant  366.666667\n",
       "Food Truck             202.400000\n",
       "Salad Place             58.100000"
      ]
     },
     "execution_count": 31,
     "metadata": {},
     "output_type": "execute_result"
    }
   ],
   "source": [
    "#Run Popularity contest\n",
    "focus_pop = focusarea.drop(columns = ['Lat', 'Lng'])\n",
    "focus_pop.set_index('Landmark', drop=True)\n",
    "focus_pop['Pop'] = focusarea['Rating'] * focusarea['Photos']\n",
    "focus_pop = focus_pop.dropna()\n",
    "focus_pop = focus_pop.groupby('Category').mean()\n",
    "focus_pop=focus_pop.sort_values('Pop', ascending=False)\n",
    "focus_pop=focus_pop.drop(columns = ['Rating','Photos'])\n",
    "focus_pop.head()"
   ]
  },
  {
   "cell_type": "code",
   "execution_count": 32,
   "metadata": {},
   "outputs": [
    {
     "data": {
      "image/png": "[encoded data removed]",
      "text/plain": [
       "<Figure size 432x216 with 1 Axes>"
      ]
     },
     "metadata": {
      "needs_background": "light"
     },
     "output_type": "display_data"
    }
   ],
   "source": [
    "# step 2: plot data\n",
    "#venue_histp.pop('American Restaurant')\n",
    "focus_pop.plot(kind='bar', figsize=(6, 3), color='black')\n",
    "\n",
    "plt.xlabel('Category') # add to x-label to the plot\n",
    "plt.ylabel('Popularity') # add y-label to the plot\n",
    "plt.title('Chart 4 - Popularity per Category') # add title to the plot\n",
    "\n",
    "plt.show()"
   ]
  },
  {
   "cell_type": "markdown",
   "metadata": {},
   "source": [
    "The top Categories that are non-existing in this area are: **Sandwich Place; Sushi Bar; Tapas Bar**\n",
    "Considering the core business and culture of the customer's company, the Sushi Bar is not a good fit, so we're betting on a Portuguese Style Tapas Bar that has Sandwiches on the Menu."
   ]
  },
  {
   "cell_type": "markdown",
   "metadata": {},
   "source": [
    "**WOW!** This is the perfect outcome! The business ecosystem around this landmark is a blue ocean! It shows very little diversity and the existing businesses are in categories that are actually low in popularity when compared to similar landmarks! It is now up to **Company R** to choose from the top Categories listed in *Chart 3* the category that best fits its corporate identity."
   ]
  },
  {
   "cell_type": "markdown",
   "metadata": {},
   "source": [
    "_____"
   ]
  },
  {
   "cell_type": "markdown",
   "metadata": {},
   "source": [
    "## Results and Discussion <a name=\"results\"></a>"
   ]
  },
  {
   "cell_type": "markdown",
   "metadata": {},
   "source": [
    "The analysis shows that within the vicinity of historical landmarks in continental Portugal, **Sandwich Places, Sushi and Tapas Restaurants, Bakeries and Diners** are the most popular places. **Vegetarian Restaurant** are highly rated but they're a nouvelle business with less clients, but this might change in the future so it might be worth it to keep an eye out for this business segment.\n",
    "\n",
    "By zooming in on the area where **Company R** intends to open its new venture, it becomes clear that the business ecosystem is nothing like the Country-wide picture, with businesses low in differentiation and none of them acting within the categories previously listed as high in popularity."
   ]
  },
  {
   "cell_type": "markdown",
   "metadata": {},
   "source": [
    "_____"
   ]
  },
  {
   "cell_type": "markdown",
   "metadata": {},
   "source": [
    "## Conclusion <a name=\"conclusion\"></a>"
   ]
  },
  {
   "cell_type": "markdown",
   "metadata": {},
   "source": [
    "**Company R** has a great opportunity on its hands as the results of this analysis have yielded the best case scenario: a blue ocean business ecosystem within the vicinity of one of the most popular landmarks in the country. Furthermore, the company has a competitive advantage for having access to high level Business Intelligence, currently ignored by even the top players in this market.\n",
    "\n",
    "Out of the highest ranking in popularity categories, the *Sushi Restaurant* is possibly the only unfitting option, as the company's corporate identity has a strong tradition of working with Portuguese gifts, crafts and souvenirs. \n",
    "\n",
    "Therefore, the path is clear. The only question now is how will **Company R** adequately market and position its new business of *Portuguese Tapas and Sandwiches*."
   ]
  },
  {
   "cell_type": "code",
   "execution_count": null,
   "metadata": {},
   "outputs": [],
   "source": []
  }
 ],
 "metadata": {
  "kernelspec": {
   "display_name": "Python",
   "language": "python",
   "name": "conda-env-python-py"
  },
  "language_info": {
   "codemirror_mode": {
    "name": "ipython",
    "version": 3
   },
   "file_extension": ".py",
   "mimetype": "text/x-python",
   "name": "python",
   "nbconvert_exporter": "python",
   "pygments_lexer": "ipython3",
   "version": "3.6.7"
  }
 },
 "nbformat": 4,
 "nbformat_minor": 4
}
